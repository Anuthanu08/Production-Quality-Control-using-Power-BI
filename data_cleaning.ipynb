{
 "cells": [
  {
   "cell_type": "code",
   "execution_count": null,
   "id": "8cac966b-a1cc-4791-b5f9-d6e3155095c9",
   "metadata": {},
   "outputs": [],
   "source": [
    "# Example of cleaning data using pandas\n",
    "import pandas as pd\n",
    "\n",
    "# Load the raw data\n",
    "production_data = pd.read_csv('data/raw_data/production_logs.csv')\n",
    "\n",
    "# Remove duplicates and handle missing data\n",
    "production_data.drop_duplicates(inplace=True)\n",
    "production_data.fillna(method='ffill', inplace=True)\n",
    "\n",
    "# Save cleaned data\n",
    "production_data.to_csv('data/processed_data/cleaned_production_data.csv', index=False)\n"
   ]
  }
 ],
 "metadata": {
  "kernelspec": {
   "display_name": "Python 3 (ipykernel)",
   "language": "python",
   "name": "python3"
  },
  "language_info": {
   "codemirror_mode": {
    "name": "ipython",
    "version": 3
   },
   "file_extension": ".py",
   "mimetype": "text/x-python",
   "name": "python",
   "nbconvert_exporter": "python",
   "pygments_lexer": "ipython3",
   "version": "3.11.7"
  }
 },
 "nbformat": 4,
 "nbformat_minor": 5
}
