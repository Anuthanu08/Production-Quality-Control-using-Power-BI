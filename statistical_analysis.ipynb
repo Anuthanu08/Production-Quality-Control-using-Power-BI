{
 "cells": [
  {
   "cell_type": "code",
   "execution_count": null,
   "id": "053790de-5296-427d-ad8a-bbea7698e144",
   "metadata": {},
   "outputs": [],
   "source": [
    "# Example of defect rate analysis\n",
    "import pandas as pd\n",
    "from scipy import stats\n",
    "\n",
    "# Load defect data\n",
    "defect_data = pd.read_csv('data/processed_data/cleaned_defect_data.csv')\n",
    "\n",
    "# Calculate defect rate per machine\n",
    "defect_data['defect_rate'] = defect_data['inspection_result'].apply(lambda x: 1 if x == 'Fail' else 0)\n",
    "defect_rate_per_machine = defect_data.groupby('machine_id')['defect_rate'].mean()\n",
    "\n",
    "# Perform a t-test (e.g., comparing defect rates between two machine types)\n",
    "machine_a_defects = defect_data[defect_data['machine_id'] == 'M1']['defect_rate']\n",
    "machine_b_defects = defect_data[defect_data['machine_id'] == 'M2']['defect_rate']\n",
    "t_stat, p_value = stats.ttest_ind(machine_a_defects, machine_b_defects)\n",
    "\n",
    "# Print results\n",
    "print(f\"T-statistic: {t_stat}, P-value: {p_value}\")\n"
   ]
  }
 ],
 "metadata": {
  "kernelspec": {
   "display_name": "Python 3 (ipykernel)",
   "language": "python",
   "name": "python3"
  },
  "language_info": {
   "codemirror_mode": {
    "name": "ipython",
    "version": 3
   },
   "file_extension": ".py",
   "mimetype": "text/x-python",
   "name": "python",
   "nbconvert_exporter": "python",
   "pygments_lexer": "ipython3",
   "version": "3.11.7"
  }
 },
 "nbformat": 4,
 "nbformat_minor": 5
}
